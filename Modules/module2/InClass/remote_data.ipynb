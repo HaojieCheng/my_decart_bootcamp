{
 "cells": [
  {
   "cell_type": "markdown",
   "metadata": {},
   "source": [
    "<html>\n",
    "<table width=\"100%\" cellspacing=\"2\" cellpadding=\"2\" border=\"1\">\n",
    "<tbody>\n",
    "<tr>\n",
    "<td valign=\"center\" align=\"center\" width=\"25%\"><img src=\"../../../media/decartes.jpg\"\n",
    "alt=\"DeCART Icon\" width=\"128\" height=\"171\"><br>\n",
    "</td>\n",
    "<td valign=\"center\" align=\"center\" width=\"75%\">\n",
    "<h1 align=\"center\"><font size=\"+3\">DeCART Summer School<br>\n",
    "for<br>\n",
    "Biomedical Data Science</font></h1></td>\n",
    "<td valign=\"center\" align=\"center\" width=\"25%\"><img\n",
    "src=\"../../../media/U_Health_stacked_png_red.png\" alt=\"Utah Health\n",
    "Logo\" width=\"128\" height=\"134\"><br>\n",
    "</td>\n",
    "</tr>\n",
    "</tbody>\n",
    "</table>\n",
    "<br>\n",
    "</html>"
   ]
  },
  {
   "cell_type": "markdown",
   "metadata": {},
   "source": [
    "# Accessing Remote Data\n",
    "\n",
    "## Internet Protocols\n",
    "\n",
    "What we now know as the internet has its roots in the [ARPA Net]() that was designed to exchange data between computers across the country to facilitate decision making regarding potential nuclear attacks. The original ARPA net connected UCLA, UCSB, Stanford, and the University of Utah.\n",
    "\n",
    "![ARPA Net](https://www.sri.com/work/timeline-innovation/images/25_bw_arpanet2.png)\n",
    "\n",
    "[Various protocols](https://en.wikipedia.org/wiki/Internet_protocol_suite) have been defined for computers to communicate with each other across a network. The most important of these protocols for our purposes are\n",
    "\n",
    "\n",
    "### Application Protocols\n",
    "* [ftp](https://en.wikipedia.org/wiki/File_Transfer_Protocol)\n",
    "* [HTTP](https://en.wikipedia.org/wiki/Hypertext_Transfer_Protocol)\n",
    "* [ssh](https://en.wikipedia.org/wiki/Secure_Shell)"
   ]
  },
  {
   "cell_type": "markdown",
   "metadata": {},
   "source": [
    "### FTP\n",
    "\n",
    "FTP stands for **f**ile **t**ransfer **p**rotocol. FTP is an old protocol that has largely been replaced by more secure protocols. However, ftp is still used to distribute data. For example the NCI hosts an ftp site for distributing data:\n",
    "\n",
    "![NIC ftp site](../../../media/nci.png)\n",
    "\n",
    "One of the data sets we will be using in part 2 of the boot camp is [ClinVar](https://www.ncbi.nlm.nih.gov/clinvar/intro/) which is a resource for discovering the clinical significance of observed genetic variations.\n",
    "\n",
    "We can use the [``wget``](https://www.gnu.org/software/wget/manual/wget.html) program to use the ftp protocol to download data from an ftp site:"
   ]
  },
  {
   "cell_type": "markdown",
   "metadata": {},
   "source": [
    "## Exercise\n",
    "\n",
    "In a terminal or bash shell in the notebook, create a directory ``~/work/nci``. Change directory to that new directory and use ``wget`` to download the following file: ``ftp://ftp.ncbi.nlm.nih.gov/pub/clinvar/tab_delimited/var_citations.txt``"
   ]
  },
  {
   "cell_type": "code",
   "execution_count": 27,
   "metadata": {},
   "outputs": [
    {
     "name": "stdout",
     "output_type": "stream",
     "text": [
      "/home/jovyan/work/decart_bootcamp_part1/Modules/module2/InClass\n",
      "/home/jovyan/work/nci\n",
      "04.jpg\n",
      "ct6.jpg\n"
     ]
    }
   ],
   "source": [
    "%%bash\n",
    "pwd\n",
    "cd ../../../../nci\n",
    "pwd\n",
    "ls"
   ]
  },
  {
   "cell_type": "code",
   "execution_count": 29,
   "metadata": {},
   "outputs": [
    {
     "name": "stderr",
     "output_type": "stream",
     "text": [
      "--2017-06-30 02:16:06--  ftp://ftp.ncbi.nlm.nih.gov/pub/clinvar/tab_delimited/var_citations.txt\n",
      "           => ‘var_citations.txt’\n",
      "Resolving ftp.ncbi.nlm.nih.gov (ftp.ncbi.nlm.nih.gov)... 130.14.250.7, 2607:f220:41e:250::7\n",
      "Connecting to ftp.ncbi.nlm.nih.gov (ftp.ncbi.nlm.nih.gov)|130.14.250.7|:21... connected.\n",
      "Logging in as anonymous ... Logged in!\n",
      "==> SYST ... done.    ==> PWD ... done.\n",
      "==> TYPE I ... done.  ==> CWD (1) /pub/clinvar/tab_delimited ... done.\n",
      "==> SIZE var_citations.txt ... 7900993\n",
      "==> PASV ... done.    ==> RETR var_citations.txt ... done.\n",
      "Length: 7900993 (7.5M) (unauthoritative)\n",
      "\n",
      "     0K .......... .......... .......... .......... ..........  0%  457K 17s\n",
      "    50K .......... .......... .......... .......... ..........  1%  474K 16s\n",
      "   100K .......... .......... .......... .......... ..........  1%  469K 16s\n",
      "   150K .......... .......... .......... .......... ..........  2%  925K 14s\n",
      "   200K .......... .......... .......... .......... ..........  3%  911K 13s\n",
      "   250K .......... .......... .......... .......... ..........  3%  911K 12s\n",
      "   300K .......... .......... .......... .......... ..........  4% 86.6M 10s\n",
      "   350K .......... .......... .......... .......... ..........  5%  897K 10s\n",
      "   400K .......... .......... .......... .......... ..........  5%  894K 10s\n",
      "   450K .......... .......... .......... .......... ..........  6% 74.0M 9s\n",
      "   500K .......... .......... .......... .......... ..........  7%  885K 9s\n",
      "   550K .......... .......... .......... .......... ..........  7% 87.4M 8s\n",
      "   600K .......... .......... .......... .......... ..........  8%  973K 8s\n",
      "   650K .......... .......... .......... .......... ..........  9% 78.6M 7s\n",
      "   700K .......... .......... .......... .......... ..........  9%  988K 7s\n",
      "   750K .......... .......... .......... .......... .......... 10% 71.3M 7s\n",
      "   800K .......... .......... .......... .......... .......... 11%  184M 6s\n",
      "   850K .......... .......... .......... .......... .......... 11%  994K 6s\n",
      "   900K .......... .......... .......... .......... .......... 12%  990K 6s\n",
      "   950K .......... .......... .......... .......... .......... 12% 57.9M 6s\n",
      "  1000K .......... .......... .......... .......... .......... 13%  102M 5s\n",
      "  1050K .......... .......... .......... .......... .......... 14%  999K 5s\n",
      "  1100K .......... .......... .......... .......... .......... 14% 71.4M 5s\n",
      "  1150K .......... .......... .......... .......... .......... 15%  114M 5s\n",
      "  1200K .......... .......... .......... .......... .......... 16% 1005K 5s\n",
      "  1250K .......... .......... .......... .......... .......... 16% 68.2M 5s\n",
      "  1300K .......... .......... .......... .......... .......... 17% 79.1M 5s\n",
      "  1350K .......... .......... .......... .......... .......... 18%  163M 4s\n",
      "  1400K .......... .......... .......... .......... .......... 18% 1004K 4s\n",
      "  1450K .......... .......... .......... .......... .......... 19% 70.8M 4s\n",
      "  1500K .......... .......... .......... .......... .......... 20%  103M 4s\n",
      "  1550K .......... .......... .......... .......... .......... 20%  157M 4s\n",
      "  1600K .......... .......... .......... .......... .......... 21% 1016K 4s\n",
      "  1650K .......... .......... .......... .......... .......... 22%  113M 4s\n",
      "  1700K .......... .......... .......... .......... .......... 22%  115M 4s\n",
      "  1750K .......... .......... .......... .......... .......... 23%  116M 4s\n",
      "  1800K .......... .......... .......... .......... .......... 23% 1001K 4s\n",
      "  1850K .......... .......... .......... .......... .......... 24% 62.7M 3s\n",
      "  1900K .......... .......... .......... .......... .......... 25% 70.2M 3s\n",
      "  1950K .......... .......... .......... .......... .......... 25%  144M 3s\n",
      "  2000K .......... .......... .......... .......... .......... 26%  192M 3s\n",
      "  2050K .......... .......... .......... .......... .......... 27% 1.00M 3s\n",
      "  2100K .......... .......... .......... .......... .......... 27% 54.9M 3s\n",
      "  2150K .......... .......... .......... .......... .......... 28% 60.7M 3s\n",
      "  2200K .......... .......... .......... .......... .......... 29% 78.4M 3s\n",
      "  2250K .......... .......... .......... .......... .......... 29%  191M 3s\n",
      "  2300K .......... .......... .......... .......... .......... 30%  199M 3s\n",
      "  2350K .......... .......... .......... .......... .......... 31% 1.01M 3s\n",
      "  2400K .......... .......... .......... .......... .......... 31% 69.3M 3s\n",
      "  2450K .......... .......... .......... .......... .......... 32% 71.7M 3s\n",
      "  2500K .......... .......... .......... .......... .......... 33% 70.4M 2s\n",
      "  2550K .......... .......... .......... .......... .......... 33% 99.5M 2s\n",
      "  2600K .......... .......... .......... .......... .......... 34%  198M 2s\n",
      "  2650K .......... .......... .......... .......... .......... 34%  197M 2s\n",
      "  2700K .......... .......... .......... .......... .......... 35% 1.01M 2s\n",
      "  2750K .......... .......... .......... .......... .......... 36% 68.3M 2s\n",
      "  2800K .......... .......... .......... .......... .......... 36% 76.6M 2s\n",
      "  2850K .......... .......... .......... .......... .......... 37% 72.4M 2s\n",
      "  2900K .......... .......... .......... .......... .......... 38% 91.6M 2s\n",
      "  2950K .......... .......... .......... .......... .......... 38%  183M 2s\n",
      "  3000K .......... .......... .......... .......... .......... 39%  175M 2s\n",
      "  3050K .......... .......... .......... .......... .......... 40% 1.30M 2s\n",
      "  3100K .......... .......... .......... .......... .......... 40% 4.64M 2s\n",
      "  3150K .......... .......... .......... .......... .......... 41% 61.0M 2s\n",
      "  3200K .......... .......... .......... .......... .......... 42% 60.3M 2s\n",
      "  3250K .......... .......... .......... .......... .......... 42% 42.4M 2s\n",
      "  3300K .......... .......... .......... .......... .......... 43%  192M 2s\n",
      "  3350K .......... .......... .......... .......... .......... 44%  176M 2s\n",
      "  3400K .......... .......... .......... .......... .......... 44%  193M 2s\n",
      "  3450K .......... .......... .......... .......... .......... 45%  204M 2s\n",
      "  3500K .......... .......... .......... .......... .......... 46% 1.04M 2s\n",
      "  3550K .......... .......... .......... .......... .......... 46% 63.3M 2s\n",
      "  3600K .......... .......... .......... .......... .......... 47% 66.1M 2s\n",
      "  3650K .......... .......... .......... .......... .......... 47% 80.4M 1s\n",
      "  3700K .......... .......... .......... .......... .......... 48% 81.6M 1s\n",
      "  3750K .......... .......... .......... .......... .......... 49% 77.5M 1s\n",
      "  3800K .......... .......... .......... .......... .......... 49%  199M 1s\n",
      "  3850K .......... .......... .......... .......... .......... 50%  201M 1s\n",
      "  3900K .......... .......... .......... .......... .......... 51%  197M 1s\n",
      "  3950K .......... .......... .......... .......... .......... 51% 1.05M 1s\n",
      "  4000K .......... .......... .......... .......... .......... 52% 48.1M 1s\n",
      "  4050K .......... .......... .......... .......... .......... 53% 76.3M 1s\n",
      "  4100K .......... .......... .......... .......... .......... 53% 76.0M 1s\n",
      "  4150K .......... .......... .......... .......... .......... 54% 68.2M 1s\n",
      "  4200K .......... .......... .......... .......... .......... 55% 72.2M 1s\n",
      "  4250K .......... .......... .......... .......... .......... 55% 87.9M 1s\n",
      "  4300K .......... .......... .......... .......... .......... 56%  200M 1s\n",
      "  4350K .......... .......... .......... .......... .......... 57%  195M 1s\n",
      "  4400K .......... .......... .......... .......... .......... 57%  171M 1s\n",
      "  4450K .......... .......... .......... .......... .......... 58% 1.36M 1s\n",
      "  4500K .......... .......... .......... .......... .......... 58% 4.62M 1s\n",
      "  4550K .......... .......... .......... .......... .......... 59% 69.6M 1s\n",
      "  4600K .......... .......... .......... .......... .......... 60% 64.3M 1s\n",
      "  4650K .......... .......... .......... .......... .......... 60% 71.7M 1s\n",
      "  4700K .......... .......... .......... .......... .......... 61% 72.9M 1s\n",
      "  4750K .......... .......... .......... .......... .......... 62% 67.9M 1s\n",
      "  4800K .......... .......... .......... .......... .......... 62% 76.1M 1s\n",
      "  4850K .......... .......... .......... .......... .......... 63%  197M 1s\n",
      "  4900K .......... .......... .......... .......... .......... 64%  194M 1s\n",
      "  4950K .......... .......... .......... .......... .......... 64%  197M 1s\n",
      "  5000K .......... .......... .......... .......... .......... 65%  169M 1s\n",
      "  5050K .......... .......... .......... .......... .......... 66% 1.38M 1s\n",
      "  5100K .......... .......... .......... .......... .......... 66% 4.66M 1s\n",
      "  5150K .......... .......... .......... .......... .......... 67% 64.8M 1s\n",
      "  5200K .......... .......... .......... .......... .......... 68% 61.6M 1s\n",
      "  5250K .......... .......... .......... .......... .......... 68% 71.7M 1s\n",
      "  5300K .......... .......... .......... .......... .......... 69% 73.7M 1s\n",
      "  5350K .......... .......... .......... .......... .......... 69% 73.6M 1s\n",
      "  5400K .......... .......... .......... .......... .......... 70% 58.8M 1s\n",
      "  5450K .......... .......... .......... .......... .......... 71%  101M 1s\n",
      "  5500K .......... .......... .......... .......... .......... 71%  184M 1s\n",
      "  5550K .......... .......... .......... .......... .......... 72%  188M 1s\n",
      "  5600K .......... .......... .......... .......... .......... 73%  161M 1s\n",
      "  5650K .......... .......... .......... .......... .......... 73%  189M 1s\n",
      "  5700K .......... .......... .......... .......... .......... 74% 1.41M 1s\n",
      "  5750K .......... .......... .......... .......... .......... 75% 4.78M 1s\n",
      "  5800K .......... .......... .......... .......... .......... 75% 59.0M 1s\n",
      "  5850K .......... .......... .......... .......... .......... 76% 57.5M 0s\n",
      "  5900K .......... .......... .......... .......... .......... 77% 73.3M 0s\n",
      "  5950K .......... .......... .......... .......... .......... 77% 76.8M 0s\n",
      "  6000K .......... .......... .......... .......... .......... 78% 71.2M 0s\n",
      "  6050K .......... .......... .......... .......... .......... 79% 61.7M 0s\n",
      "  6100K .......... .......... .......... .......... .......... 79% 71.3M 0s\n",
      "  6150K .......... .......... .......... .......... .......... 80% 71.6M 0s\n",
      "  6200K .......... .......... .......... .......... .......... 81%  197M 0s\n",
      "  6250K .......... .......... .......... .......... .......... 81%  174M 0s\n",
      "  6300K .......... .......... .......... .......... .......... 82%  207M 0s\n",
      "  6350K .......... .......... .......... .......... .......... 82%  201M 0s\n",
      "  6400K .......... .......... .......... .......... .......... 83%  210M 0s\n",
      "  6450K .......... .......... .......... .......... .......... 84% 1.45M 0s\n",
      "  6500K .......... .......... .......... .......... .......... 84% 4.86M 0s\n",
      "  6550K .......... .......... .......... .......... .......... 85% 64.8M 0s\n",
      "  6600K .......... .......... .......... .......... .......... 86% 68.2M 0s\n",
      "  6650K .......... .......... .......... .......... .......... 86% 79.7M 0s\n",
      "  6700K .......... .......... .......... .......... .......... 87% 77.0M 0s\n",
      "  6750K .......... .......... .......... .......... .......... 88% 81.7M 0s\n",
      "  6800K .......... .......... .......... .......... .......... 88% 72.3M 0s\n",
      "  6850K .......... .......... .......... .......... .......... 89% 84.3M 0s\n",
      "  6900K .......... .......... .......... .......... .......... 90% 82.7M 0s\n",
      "  6950K .......... .......... .......... .......... .......... 90% 85.1M 0s\n",
      "  7000K .......... .......... .......... .......... .......... 91% 67.8M 0s\n",
      "  7050K .......... .......... .......... .......... .......... 92%  128M 0s\n",
      "  7100K .......... .......... .......... .......... .......... 92%  194M 0s\n",
      "  7150K .......... .......... .......... .......... .......... 93%  199M 0s\n",
      "  7200K .......... .......... .......... .......... .......... 93%  175M 0s\n",
      "  7250K .......... .......... .......... .......... .......... 94%  196M 0s\n",
      "  7300K .......... .......... .......... .......... .......... 95% 1.46M 0s\n",
      "  7350K .......... .......... .......... .......... .......... 95% 4.98M 0s\n",
      "  7400K .......... .......... .......... .......... .......... 96% 56.0M 0s\n",
      "  7450K .......... .......... .......... .......... .......... 97% 68.2M 0s\n",
      "  7500K .......... .......... .......... .......... .......... 97% 84.6M 0s\n",
      "  7550K .......... .......... .......... .......... .......... 98% 90.5M 0s\n",
      "  7600K .......... .......... .......... .......... .......... 99%  180M 0s\n",
      "  7650K .......... .......... .......... .......... .......... 99%  160M 0s\n",
      "  7700K .......... .....                                      100%  166M=1.7s\n",
      "\n",
      "2017-06-30 02:16:08 (4.49 MB/s) - ‘var_citations.txt’ saved [7900993]\n",
      "\n"
     ]
    }
   ],
   "source": [
    "%%bash\n",
    "cd ../../../../nci\n",
    "wget ftp://ftp.ncbi.nlm.nih.gov/pub/clinvar/tab_delimited/var_citations.txt"
   ]
  },
  {
   "cell_type": "code",
   "execution_count": 30,
   "metadata": {},
   "outputs": [
    {
     "name": "stdout",
     "output_type": "stream",
     "text": [
      "var_citations.txt exist in the correct location\n",
      "var_citations.txt read correctly\n"
     ]
    }
   ],
   "source": [
    "from remote_quizzes import *\n",
    "nci_ftp_quiz()"
   ]
  },
  {
   "cell_type": "markdown",
   "metadata": {},
   "source": [
    "## [``pandoc``](http://pandoc.org/)\n",
    "\n",
    "Pandoc is a very useful tool that converts a document in one format to a another format. It is quite versatile in the kind of documents it can handle, including\n",
    "\n",
    "* Word documents (*.docx)\n",
    "* HTML (*.html)\n",
    "* [Markdown](https://daringfireball.net/projects/markdown/syntax) (*.md)\n",
    "* [reStructedText](http://docutils.sourceforge.net/rst.html) (*.rst)\n",
    "* [LaTex](https://www.latex-project.org/about/) (*.tex)\n",
    "\n",
    "There are many more formats pandoc understands. See the [documentation](http://pandoc.org/).\n",
    "\n",
    "In these courses, we will make much use of Markdown and LaTex. Thees notebooks are set in Markdown.\n",
    "\n"
   ]
  },
  {
   "cell_type": "markdown",
   "metadata": {},
   "source": [
    "## [``curl``](https://curl.haxx.se/docs/manpage.html)\n",
    "\n",
    "``curl`` is a tool similar to ``wget``, but with perhaps more general functionality. Int he following example\n",
    "\n",
    "## Example\n",
    "\n",
    "In this example we are going to explore a little bit of the differences between ``wget`` and ``curl``. As part of this exploration we are going to combine Unix pipes and pandoc to convert the HTML document that is pulled from the web to a more user readable form.\n",
    "\n",
    "The author of ``curl`` has written a comparison between the two tools at ``https://daniel.haxx.se/docs/curl-vs-wget.html``. \n",
    "\n",
    "In a terminal type the following command:\n",
    "\n",
    "```bash\n",
    "curl https://daniel.haxx.se/docs/curl-vs-wget.html | pandoc -S --from=html --to=plain | less\n",
    "```\n",
    "\n",
    "## Exercise\n",
    "\n",
    "Explain each step of the composite command to your neighbor/partner.\n",
    "\n",
    "\n",
    "## Exercise\n",
    "\n",
    "Change the output format (``--to=plain``) to other formats to explore them, including not converting the HTML at all."
   ]
  },
  {
   "cell_type": "code",
   "execution_count": null,
   "metadata": {
    "collapsed": true
   },
   "outputs": [],
   "source": [
    "%%bash\n",
    "curl https://daniel.haxx.se/docs/curl-vs-wget.html | pandoc -S --from=html --to=plain | less"
   ]
  },
  {
   "cell_type": "markdown",
   "metadata": {},
   "source": [
    "## Structure of Web Servers\n",
    "\n",
    "Web servers like Apache and Nginx map directories on the server to web addresses. We have created an Nginx web server on our network. For Nginx the directory root that is mapped to the web is ``/usr/share/nginx/html``. Here is what the directory tree there looks like:\n",
    "\n",
    "![Nginx tree](../../../media/webserver.png)\n",
    "\n",
    "``index.html`` is the HTML page that maps to the url base.\n",
    "\n",
    "Running this locally on my computer the address is ``http://127.0.0.1:8080``:\n",
    "\n",
    "![index image](../../../media/index.html.png)\n",
    "\n",
    "Any file sitting below ``/user/share/nginx/html`` maps with an address matching its relative file path. So, for example the, JPEG file located at ``./imgs/bigneck.jpg`` maps to ``http://127.0.0.1:8080/imgs/bigneck.jpg``\n",
    "\n",
    "![big neck](../../../media/big_neck.png)\n",
    "\n",
    "And ``./data/carotid.txt`` maps to ``http://127.0.0.1:8080/data/carotid.txt``\n",
    "\n",
    "![carotid image](../../../media/carotid.png)"
   ]
  },
  {
   "cell_type": "markdown",
   "metadata": {},
   "source": [
    "## Images and Medicine\n",
    "\n",
    "Visual information is integral to medicine. Digital imaging technologies and electronic health records enable the greater use of images in medicine. Some disciplines, such as radiology and surgical pathology, are entirely built around visual information and captured images. In fields like dermatology, images are becoming more prevalent. In radiology, medical-specific standards are used to represent images while dermatology tends to use general photographic image standards.\n",
    "\n",
    "\n",
    "\n",
    "\n",
    "## Medical Specific Standards for Images\n",
    "\n",
    "* [DICOM](https://en.wikipedia.org/wiki/DICOM)\n",
    "\n",
    "## General Image Standards\n",
    "\n",
    "* [TIFF: Tagged Image File Format](https://en.wikipedia.org/wiki/Tagged_Image_File_Format)\n",
    "* [JPEG: Joint Photographic Experts Group](https://en.wikipedia.org/wiki/JPEG)\n",
    "* [PNG: Portable Network Graphics](https://en.wikipedia.org/wiki/Portable_Network_Graphics)\n",
    "\n",
    "\n",
    "### Exercise\n",
    "\n",
    "When defining a standard for a digital image, what are some of the information about the image you would need to represent/record?"
   ]
  },
  {
   "cell_type": "markdown",
   "metadata": {},
   "source": [
    "## Install a program for reading image headers for photographic images\n",
    "\n",
    "The cell below will create an executable program EXIF.py. This file will be installed in your path (use ``which`` to see where it is installed) and can be used to read the metadata for an image."
   ]
  },
  {
   "cell_type": "code",
   "execution_count": 6,
   "metadata": {},
   "outputs": [
    {
     "name": "stdout",
     "output_type": "stream",
     "text": [
      "Collecting exifread\n",
      "  Downloading ExifRead-2.1.2.tar.gz\n",
      "Building wheels for collected packages: exifread\n",
      "  Running setup.py bdist_wheel for exifread: started\n",
      "  Running setup.py bdist_wheel for exifread: finished with status 'done'\n",
      "  Stored in directory: /home/jovyan/.cache/pip/wheels/bf/4a/e3/7c17937fac0c09f5a22d5c80021d85ad47befebef193197f11\n",
      "Successfully built exifread\n",
      "Installing collected packages: exifread\n",
      "Successfully installed exifread-2.1.2\n"
     ]
    }
   ],
   "source": [
    "%%bash\n",
    "pip install exifread"
   ]
  },
  {
   "cell_type": "code",
   "execution_count": 13,
   "metadata": {
    "collapsed": true
   },
   "outputs": [],
   "source": [
    "%bash%\n",
    "which"
   ]
  },
  {
   "cell_type": "code",
   "execution_count": 11,
   "metadata": {},
   "outputs": [
    {
     "name": "stderr",
     "output_type": "stream",
     "text": [
      "--2017-06-29 20:18:14--  http://mynginx/imgs/04.jpg\n",
      "Resolving mynginx (mynginx)... 172.20.0.5\n",
      "Connecting to mynginx (mynginx)|172.20.0.5|:80... connected.\n",
      "HTTP request sent, awaiting response... 200 OK\n",
      "Length: 5699576 (5.4M) [image/jpeg]\n",
      "Saving to: ‘04.jpg.1’\n",
      "\n",
      "     0K .......... .......... .......... .......... ..........  0% 90.5M 0s\n",
      "    50K .......... .......... .......... .......... ..........  1%  144M 0s\n",
      "   100K .......... .......... .......... .......... ..........  2%  135M 0s\n",
      "   150K .......... .......... .......... .......... ..........  3%  136M 0s\n",
      "   200K .......... .......... .......... .......... ..........  4% 52.8M 0s\n",
      "   250K .......... .......... .......... .......... ..........  5%  116M 0s\n",
      "   300K .......... .......... .......... .......... ..........  6%  161M 0s\n",
      "   350K .......... .......... .......... .......... ..........  7%  150M 0s\n",
      "   400K .......... .......... .......... .......... ..........  8%  163M 0s\n",
      "   450K .......... .......... .......... .......... ..........  8%  243M 0s\n",
      "   500K .......... .......... .......... .......... ..........  9%  173M 0s\n",
      "   550K .......... .......... .......... .......... .......... 10%  174M 0s\n",
      "   600K .......... .......... .......... .......... .......... 11%  151M 0s\n",
      "   650K .......... .......... .......... .......... .......... 12%  189M 0s\n",
      "   700K .......... .......... .......... .......... .......... 13%  226M 0s\n",
      "   750K .......... .......... .......... .......... .......... 14% 95.7M 0s\n",
      "   800K .......... .......... .......... .......... .......... 15% 67.8M 0s\n",
      "   850K .......... .......... .......... .......... .......... 16%  130M 0s\n",
      "   900K .......... .......... .......... .......... .......... 17%  168M 0s\n",
      "   950K .......... .......... .......... .......... .......... 17%  238M 0s\n",
      "  1000K .......... .......... .......... .......... .......... 18%  212M 0s\n",
      "  1050K .......... .......... .......... .......... .......... 19%  240M 0s\n",
      "  1100K .......... .......... .......... .......... .......... 20%  186M 0s\n",
      "  1150K .......... .......... .......... .......... .......... 21%  259M 0s\n",
      "  1200K .......... .......... .......... .......... .......... 22%  233M 0s\n",
      "  1250K .......... .......... .......... .......... .......... 23%  218M 0s\n",
      "  1300K .......... .......... .......... .......... .......... 24%  276M 0s\n",
      "  1350K .......... .......... .......... .......... .......... 25%  265M 0s\n",
      "  1400K .......... .......... .......... .......... .......... 26%  225M 0s\n",
      "  1450K .......... .......... .......... .......... .......... 26%  277M 0s\n",
      "  1500K .......... .......... .......... .......... .......... 27%  236M 0s\n",
      "  1550K .......... .......... .......... .......... .......... 28%  247M 0s\n",
      "  1600K .......... .......... .......... .......... .......... 29%  220M 0s\n",
      "  1650K .......... .......... .......... .......... .......... 30%  266M 0s\n",
      "  1700K .......... .......... .......... .......... .......... 31%  220M 0s\n",
      "  1750K .......... .......... .......... .......... .......... 32%  262M 0s\n",
      "  1800K .......... .......... .......... .......... .......... 33%  235M 0s\n",
      "  1850K .......... .......... .......... .......... .......... 34%  269M 0s\n",
      "  1900K .......... .......... .......... .......... .......... 35%  287M 0s\n",
      "  1950K .......... .......... .......... .......... .......... 35%  246M 0s\n",
      "  2000K .......... .......... .......... .......... .......... 36%  219M 0s\n",
      "  2050K .......... .......... .......... .......... .......... 37%  267M 0s\n",
      "  2100K .......... .......... .......... .......... .......... 38%  265M 0s\n",
      "  2150K .......... .......... .......... .......... .......... 39%  269M 0s\n",
      "  2200K .......... .......... .......... .......... .......... 40%  216M 0s\n",
      "  2250K .......... .......... .......... .......... .......... 41%  237M 0s\n",
      "  2300K .......... .......... .......... .......... .......... 42%  240M 0s\n",
      "  2350K .......... .......... .......... .......... .......... 43%  256M 0s\n",
      "  2400K .......... .......... .......... .......... .......... 44%  223M 0s\n",
      "  2450K .......... .......... .......... .......... .......... 44%  236M 0s\n",
      "  2500K .......... .......... .......... .......... .......... 45%  186M 0s\n",
      "  2550K .......... .......... .......... .......... .......... 46%  268M 0s\n",
      "  2600K .......... .......... .......... .......... .......... 47%  233M 0s\n",
      "  2650K .......... .......... .......... .......... .......... 48%  275M 0s\n",
      "  2700K .......... .......... .......... .......... .......... 49%  288M 0s\n",
      "  2750K .......... .......... .......... .......... .......... 50%  274M 0s\n",
      "  2800K .......... .......... .......... .......... .......... 51%  229M 0s\n",
      "  2850K .......... .......... .......... .......... .......... 52%  281M 0s\n",
      "  2900K .......... .......... .......... .......... .......... 53%  296M 0s\n",
      "  2950K .......... .......... .......... .......... .......... 53%  278M 0s\n",
      "  3000K .......... .......... .......... .......... .......... 54%  237M 0s\n",
      "  3050K .......... .......... .......... .......... .......... 55%  284M 0s\n",
      "  3100K .......... .......... .......... .......... .......... 56%  275M 0s\n",
      "  3150K .......... .......... .......... .......... .......... 57%  274M 0s\n",
      "  3200K .......... .......... .......... .......... .......... 58%  225M 0s\n",
      "  3250K .......... .......... .......... .......... .......... 59%  265M 0s\n",
      "  3300K .......... .......... .......... .......... .......... 60%  266M 0s\n",
      "  3350K .......... .......... .......... .......... .......... 61%  250M 0s\n",
      "  3400K .......... .......... .......... .......... .......... 61%  221M 0s\n",
      "  3450K .......... .......... .......... .......... .......... 62%  272M 0s\n",
      "  3500K .......... .......... .......... .......... .......... 63%  269M 0s\n",
      "  3550K .......... .......... .......... .......... .......... 64%  226M 0s\n",
      "  3600K .......... .......... .......... .......... .......... 65%  225M 0s\n",
      "  3650K .......... .......... .......... .......... .......... 66%  281M 0s\n",
      "  3700K .......... .......... .......... .......... .......... 67%  282M 0s\n",
      "  3750K .......... .......... .......... .......... .......... 68%  263M 0s\n",
      "  3800K .......... .......... .......... .......... .......... 69%  228M 0s\n",
      "  3850K .......... .......... .......... .......... .......... 70%  257M 0s\n",
      "  3900K .......... .......... .......... .......... .......... 70%  255M 0s\n",
      "  3950K .......... .......... .......... .......... .......... 71%  263M 0s\n",
      "  4000K .......... .......... .......... .......... .......... 72%  231M 0s\n",
      "  4050K .......... .......... .......... .......... .......... 73%  257M 0s\n",
      "  4100K .......... .......... .......... .......... .......... 74%  282M 0s\n",
      "  4150K .......... .......... .......... .......... .......... 75%  270M 0s\n",
      "  4200K .......... .......... .......... .......... .......... 76%  224M 0s\n",
      "  4250K .......... .......... .......... .......... .......... 77%  286M 0s\n",
      "  4300K .......... .......... .......... .......... .......... 78%  262M 0s\n",
      "  4350K .......... .......... .......... .......... .......... 79%  260M 0s\n",
      "  4400K .......... .......... .......... .......... .......... 79%  228M 0s\n",
      "  4450K .......... .......... .......... .......... .......... 80%  268M 0s\n",
      "  4500K .......... .......... .......... .......... .......... 81%  269M 0s\n",
      "  4550K .......... .......... .......... .......... .......... 82%  261M 0s\n",
      "  4600K .......... .......... .......... .......... .......... 83%  209M 0s\n",
      "  4650K .......... .......... .......... .......... .......... 84%  241M 0s\n",
      "  4700K .......... .......... .......... .......... .......... 85%  275M 0s\n",
      "  4750K .......... .......... .......... .......... .......... 86%  270M 0s\n",
      "  4800K .......... .......... .......... .......... .......... 87%  225M 0s\n",
      "  4850K .......... .......... .......... .......... .......... 88%  272M 0s\n",
      "  4900K .......... .......... .......... .......... .......... 88%  274M 0s\n",
      "  4950K .......... .......... .......... .......... .......... 89%  272M 0s\n",
      "  5000K .......... .......... .......... .......... .......... 90%  239M 0s\n",
      "  5050K .......... .......... .......... .......... .......... 91%  280M 0s\n",
      "  5100K .......... .......... .......... .......... .......... 92%  271M 0s\n",
      "  5150K .......... .......... .......... .......... .......... 93%  264M 0s\n",
      "  5200K .......... .......... .......... .......... .......... 94%  219M 0s\n",
      "  5250K .......... .......... .......... .......... .......... 95%  258M 0s\n",
      "  5300K .......... .......... .......... .......... .......... 96%  252M 0s\n",
      "  5350K .......... .......... .......... .......... .......... 97%  275M 0s\n",
      "  5400K .......... .......... .......... .......... .......... 97%  229M 0s\n",
      "  5450K .......... .......... .......... .......... .......... 98%  255M 0s\n",
      "  5500K .......... .......... .......... .......... .......... 99%  282M 0s\n",
      "  5550K .......... .....                                      100%  214M=0.03s\n",
      "\n",
      "2017-06-29 20:18:14 (214 MB/s) - ‘04.jpg.1’ saved [5699576/5699576]\n",
      "\n"
     ]
    }
   ],
   "source": [
    "%%bash\n",
    "\n",
    "wget mynginx/imgs/04.jpg"
   ]
  },
  {
   "cell_type": "code",
   "execution_count": 15,
   "metadata": {},
   "outputs": [
    {
     "name": "stdout",
     "output_type": "stream",
     "text": [
      "/home/jovyan/work/decart_bootcamp_part1/Modules/module2/InClass\n"
     ]
    },
    {
     "name": "stderr",
     "output_type": "stream",
     "text": [
      "bash: line 1: cd: /home/jovyan/work/nci: No such file or directory\n"
     ]
    }
   ],
   "source": [
    "%%bash\n",
    "cd ~/work/nci\n",
    "wget http://mynginx/i​http://mynginx/imgs/04.jpgmgs/04.jpg\n",
    "mkdir "
   ]
  },
  {
   "cell_type": "markdown",
   "metadata": {},
   "source": [
    "## Exercise\n",
    "\n",
    "Make the directories ``/home/jovyan/work/images_wget`` and ``/home/jovyan/images_curl``. Use both ``wget`` and ``curl`` to download the images from ``mynginx`` to the wget and curl directories respectively. Use the ``EXIF.py`` program to answer the following questions:\n",
    "\n",
    "1. What are the image dimensions of 04.jpg?\n",
    "1. What is the date 04.jpg was acquired?\n",
    "1. What is the color space of 04.jpg?\n",
    "1. What are the image dimensions of ct6.jpg?\n",
    "1. What is the date ct6.jpg was acquired?\n",
    "1. What is the color space of ct6.jpg?"
   ]
  },
  {
   "cell_type": "markdown",
   "metadata": {},
   "source": [
    "## Display an image using Markdown\n",
    "\n",
    "We can display an image in this notebook using Markdown. The syntax is\n",
    "\n",
    "```markdown\n",
    "\n",
    "![some label](PATH_TO_FILE)\n",
    "```\n",
    "\n",
    "Edit the markdown cell below to display an image you have pulled from mynginx"
   ]
  },
  {
   "cell_type": "markdown",
   "metadata": {},
   "source": [
    "### Display image here\n",
    "\n",
    "![]()"
   ]
  },
  {
   "cell_type": "markdown",
   "metadata": {},
   "source": [
    "![test](../../../../nci/04.jpg)"
   ]
  },
  {
   "cell_type": "code",
   "execution_count": 16,
   "metadata": {},
   "outputs": [
    {
     "name": "stdout",
     "output_type": "stream",
     "text": [
      "/home/jovyan/work/decart_bootcamp_part1/Modules/module2/InClass\n"
     ]
    }
   ],
   "source": [
    "%%bash\n",
    "pwd"
   ]
  },
  {
   "cell_type": "code",
   "execution_count": 17,
   "metadata": {},
   "outputs": [
    {
     "name": "stdout",
     "output_type": "stream",
     "text": [
      "/home/jovyan/work/decart_bootcamp_part1/Modules/module2/InClass\n"
     ]
    }
   ],
   "source": [
    "%%bash\n",
    "pwd"
   ]
  },
  {
   "cell_type": "markdown",
   "metadata": {},
   "source": [
    "![new](../../../../nci/ct6.jpg)"
   ]
  },
  {
   "cell_type": "code",
   "execution_count": null,
   "metadata": {
    "collapsed": true
   },
   "outputs": [],
   "source": []
  }
 ],
 "metadata": {
  "kernelspec": {
   "display_name": "Python 3",
   "language": "python",
   "name": "python3"
  },
  "language_info": {
   "codemirror_mode": {
    "name": "ipython",
    "version": 3
   },
   "file_extension": ".py",
   "mimetype": "text/x-python",
   "name": "python",
   "nbconvert_exporter": "python",
   "pygments_lexer": "ipython3",
   "version": "3.5.2"
  }
 },
 "nbformat": 4,
 "nbformat_minor": 1
}
