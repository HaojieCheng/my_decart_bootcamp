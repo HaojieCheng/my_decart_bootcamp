{
 "cells": [
  {
   "cell_type": "markdown",
   "metadata": {},
   "source": [
    "# What is Data Science\n",
    "\n",
    "Here are some excerpts from a recent PBS series [The Human Faceof Big Data](http://www.pbs.org/show/human-face-big-data/). Each clip is around 4 minutes long. "
   ]
  },
  {
   "cell_type": "code",
   "execution_count": null,
   "metadata": {},
   "outputs": [],
   "source": [
    "from IPython.display import YouTubeVideo\n",
    "from datetime import timedelta\n",
    "from IPython.display import display"
   ]
  },
  {
   "cell_type": "markdown",
   "metadata": {},
   "source": [
    "## The Human Face of Big Data Clip 1\n",
    "### Google Flu Trends and Learning Language"
   ]
  },
  {
   "cell_type": "code",
   "execution_count": null,
   "metadata": {},
   "outputs": [],
   "source": [
    "YouTubeVideo(\"3G9lrjcqXbk\", width = 800, height=600, \n",
    "             start = int(timedelta(minutes=9, seconds=0).total_seconds()),\n",
    "             end =int(timedelta(minutes=14, seconds=0).total_seconds()))\n"
   ]
  },
  {
   "cell_type": "markdown",
   "metadata": {},
   "source": [
    "## The Human Face of Big Data Clip 2\n",
    "### Predicting Infections in the ICU"
   ]
  },
  {
   "cell_type": "code",
   "execution_count": null,
   "metadata": {},
   "outputs": [],
   "source": [
    "YouTubeVideo(\"3G9lrjcqXbk\", width = 800, height=600, \n",
    "             start = int(timedelta(minutes=14, seconds=30).total_seconds()),\n",
    "             end =int(timedelta(minutes=18, seconds=0).total_seconds()))\n"
   ]
  },
  {
   "cell_type": "markdown",
   "metadata": {},
   "source": [
    "## The Human Face of Big Data Clip 3\n",
    "### Genomic Data"
   ]
  },
  {
   "cell_type": "code",
   "execution_count": null,
   "metadata": {},
   "outputs": [],
   "source": [
    "YouTubeVideo(\"3G9lrjcqXbk\", width = 800, height=600, \n",
    "             start = int(timedelta(minutes=17, seconds=49).total_seconds()),\n",
    "             end =int(timedelta(minutes=21, seconds=15).total_seconds()))"
   ]
  },
  {
   "cell_type": "markdown",
   "metadata": {},
   "source": [
    "## Historical Videos about the Creation of Unix"
   ]
  },
  {
   "cell_type": "code",
   "execution_count": null,
   "metadata": {},
   "outputs": [],
   "source": [
    "YouTubeVideo(\"tc4ROCJYbm0\", width=800, height=600,\n",
    "             start = int(timedelta(minutes=1, seconds=11).total_seconds()),\n",
    "             end =int(timedelta(minutes=10, seconds=49).total_seconds()))\n"
   ]
  },
  {
   "cell_type": "code",
   "execution_count": null,
   "metadata": {},
   "outputs": [],
   "source": [
    "YouTubeVideo(\"tc4ROCJYbm0\", width = 800, height=600, \n",
    "             start = int(timedelta(minutes=12, seconds=4).total_seconds()),\n",
    "             end =int(timedelta(minutes=19, seconds=2).total_seconds()))"
   ]
  },
  {
   "cell_type": "markdown",
   "metadata": {},
   "source": [
    "### Additional Shell Resources\n",
    "\n",
    "* [What CS majors should know about UNIX](http://matt.might.net/articles/what-cs-majors-should-know/)\n",
    "* [Command line demonstrations](http://www.commandlinefu.com/commands/browse)\n",
    "* [Bioinformatics on the Command Line](http://www.vicbioinformatics.com/documents/command-line/#/)\n",
    "* [sed tutorial](http://www.grymoire.com/Unix/Sed.html)\n",
    "* [awk tutorial](http://www.grymoire.com/Unix/Awk.html)\n",
    "* [grep tutorial](http://www.grymoire.com/Unix/Grep.html)\n",
    "* [Codeacademy shell tutorial](https://www.codecademy.com/learn/learn-the-command-line)."
   ]
  },
  {
   "cell_type": "code",
   "execution_count": null,
   "metadata": {},
   "outputs": [],
   "source": []
  }
 ],
 "metadata": {
  "kernelspec": {
   "display_name": "Python 3",
   "language": "python",
   "name": "python3"
  },
  "language_info": {
   "codemirror_mode": {
    "name": "ipython",
    "version": 3
   },
   "file_extension": ".py",
   "mimetype": "text/x-python",
   "name": "python",
   "nbconvert_exporter": "python",
   "pygments_lexer": "ipython3",
   "version": "3.5.2"
  }
 },
 "nbformat": 4,
 "nbformat_minor": 1
}
